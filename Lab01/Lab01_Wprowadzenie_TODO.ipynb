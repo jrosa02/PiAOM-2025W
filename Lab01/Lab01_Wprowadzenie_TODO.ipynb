{
 "cells": [
  {
   "cell_type": "markdown",
   "id": "4ce9812f",
   "metadata": {
    "id": "4ce9812f"
   },
   "source": [
    "# Laboratorium 01 — Wprowadzenie do analizy obrazów medycznych (DICOM i NIfTI)\n",
    "\n",
    "W tym laboratorium rozpoczniemy pracę z medycznymi danymi obrazowymi. Poznamy podstawowe formaty (DICOM, NIfTI), sposoby wczytywania i eksploracji wolumenów 3D, przegląd najważniejszych metadanych oraz wykonamy proste przekształcenia i wizualizacje.\n",
    "\n",
    "## Cele nauczania\n",
    "- Zrozumienie różnic między formatami DICOM i NIfTI oraz kiedy ich używać.\n",
    "- Wczytywanie obrazów z użyciem bibliotek: pydicom, SimpleITK, nibabel, nilearn.\n",
    "- Odczyt i interpretacja metadanych.\n",
    "- Podstawowe operacje na danych 3D: wybór przekrojów, progowanie, obliczanie gradientów (Sobel), przepróbkowanie (interpolacja danych).\n",
    "- Przegląd i zapis danych do plików NIfTI.\n",
    "\n",
    "## Zakres i przepływ pracy\n",
    "1. DICOM: wczytanie pojedynczych plików, przegląd nagłówka i pikseli (pydicom, SimpleITK)\n",
    "2. NIfTI: wczytanie wolumenu, macierz affine, orientacje, podstawowe przekroje (nibabel)\n",
    "3. Wizualizacja 2D/3D: przekroje osiowe/koronalne/strzałkowe, proste układy figur (matplotlib, opcjonalnie nilearn)\n",
    "4. Proste przekształcenia: progowanie, filtr Sobela 3D, filtracja medianowa\n",
    "5. Resamplowanie i zapis: izotropizacja voxeli, zapis przetworzonych danych do NIfTI\n",
    "\n",
    "## Dane do ćwiczeń\n",
    "Dane powinny pobrać się automatycznie w ramach skryptu. Znajdują się one w folderze data lub /content/data (w przypadku Google Colab).\n",
    "\n",
    "## Wymagane narzędzia i biblioteki\n",
    "- Python 3.9+ oraz:\n",
    "  - numpy, matplotlib\n",
    "  - pydicom, SimpleITK\n",
    "  - nibabel, nilearn\n",
    "- Biblioteki należy zainstalować na początku skryptu jeśli pracujesz w Google Colab. Jeśli pracujesz lokalnie, to warto stworzyć środowisko conda lub venv.\n",
    "\n",
    "## Typowe pułapki i wskazówki\n",
    "- Orientacje i układy współrzędnych: DICOM zwykle używa LPS, wiele narzędzi neuro (nibabel/nilearn) preferuje RAS. Nie mieszaj konwencji bez kontroli affine.\n",
    "- Jednostki i skale intensywności: CT (HU - Hounsfield Units) vs MR (wartości względne). Normalizuj lub standaryzuj dane przed progowaniem/filtracją.\n",
    "- Spójny spacing: przed analizą porównawczą rozważ resamplowanie do voxeli izotropowych (np. 1×1×1 mm).\n",
    "- Pamięć i wydajność: pracujemy na małych przykładach, ale na większych danych stosuje się lazy loading (dane nie są wczytywane od razu, tylko po wywołaniu), ogranicza rozmiar figur i liczbę kopii tablic.\n",
    "\n",
    "Powodzenia! W kolejnych sekcjach przejdziemy od wczytania plików po zapis przetworzonych wolumenów i krótką analizę."
   ]
  },
  {
   "cell_type": "markdown",
   "id": "c427f724",
   "metadata": {
    "id": "c427f724"
   },
   "source": [
    "## 0) Instalacja bibliotek (jeśli potrzebne)"
   ]
  },
  {
   "cell_type": "code",
   "execution_count": null,
   "id": "b28c0b11",
   "metadata": {
    "executionInfo": {
     "elapsed": 2149,
     "status": "ok",
     "timestamp": 1759912046388,
     "user": {
      "displayName": "JAN ROSA",
      "userId": "09972594920799623787"
     },
     "user_tz": -120
    },
    "id": "b28c0b11"
   },
   "outputs": [],
   "source": [
    "# Uruchom, jeśli pojawi się błąd 'ModuleNotFoundError'\n",
    "!pip -q install scipy nibabel nilearn SimpleITK pydicom matplotlib numpy"
   ]
  },
  {
   "cell_type": "markdown",
   "id": "a040c2df",
   "metadata": {
    "id": "a040c2df"
   },
   "source": [
    "\n",
    "## 1) Automatyczne pobranie przykładowych danych\n",
    "\n",
    "Aby nie trzeba było samodzielnie uploadować danych, wczytamy:\n",
    "- **DICOM**: przykładowe pliki z pakietu `pydicom` (CT, MR),\n",
    "- **NIfTI**: mały wolumen MNI152 (szablon MRI mózgu) pobrany z `nilearn`.\n"
   ]
  },
  {
   "cell_type": "code",
   "execution_count": null,
   "id": "723a70e9",
   "metadata": {
    "colab": {
     "base_uri": "https://localhost:8080/"
    },
    "executionInfo": {
     "elapsed": 34,
     "status": "ok",
     "timestamp": 1759912046425,
     "user": {
      "displayName": "JAN ROSA",
      "userId": "09972594920799623787"
     },
     "user_tz": -120
    },
    "id": "723a70e9",
    "outputId": "dce1e3c0-1c49-4b01-dce2-f751860f0443"
   },
   "outputs": [],
   "source": [
    "import os, shutil, urllib.request\n",
    "import numpy as np\n",
    "import matplotlib.pyplot as plt\n",
    "\n",
    "import nibabel as nib\n",
    "import SimpleITK as sitk\n",
    "import pydicom\n",
    "from pydicom.data import get_testdata_files\n",
    "\n",
    "from scipy import ndimage as ndi\n",
    "import cv2\n",
    "\n",
    "BASE = \"/content/data\" if os.path.isdir(\"/content\") else \"./data\"\n",
    "DATA_DIR = os.path.join(BASE, \"lab01_data\")\n",
    "os.makedirs(DATA_DIR, exist_ok=True)\n",
    "\n",
    "# --- DICOM ---\n",
    "dicom_dir = os.path.join(DATA_DIR, \"dicom\")\n",
    "os.makedirs(dicom_dir, exist_ok=True)\n",
    "\n",
    "dicom_examples = [\"CT_small.dcm\", \"MR_small.dcm\", \"SC_rgb.dcm\"]\n",
    "for name in dicom_examples:\n",
    "    src = get_testdata_files(name)[0]\n",
    "    dst = os.path.join(dicom_dir, name)\n",
    "    shutil.copy(src, dst)\n",
    "print(\"Skopiowano pliki DICOM:\", os.listdir(dicom_dir))\n",
    "\n",
    "# --- NIfTI ---\n",
    "nifti_dir = os.path.join(DATA_DIR, \"nifti\")\n",
    "os.makedirs(nifti_dir, exist_ok=True)\n",
    "\n",
    "nifti_path = os.path.join(nifti_dir, \"mni152.nii.gz\")\n",
    "try:\n",
    "    from nilearn.datasets import load_mni152_template\n",
    "    img = load_mni152_template(resolution=2)\n",
    "    nib.save(img, nifti_path)\n",
    "    print(\"Pobrano MNI152 przez nilearn:\", nifti_path)\n",
    "except Exception as e:\n",
    "    print(\"Błąd nilearn:\", e)\n",
    "    url = \"https://nipy.org/nibabel/_static/nifti_examples/nifti1.nii.gz\"\n",
    "    urllib.request.urlretrieve(url, nifti_path)\n",
    "    print(\"Pobrano fallback NIfTI:\", nifti_path)\n",
    "\n",
    "print(\"Gotowe dane w:\", DATA_DIR)\n"
   ]
  },
  {
   "cell_type": "markdown",
   "id": "dfe20e5b",
   "metadata": {
    "id": "dfe20e5b"
   },
   "source": [
    "\n",
    "## Zadanie 1 – Wczytanie obrazu DICOM i metadane\n",
    "\n",
    "1. Wykonaj ponizsze operacje dla każdego z pobranych plików testowych DICOM (nazwy w `dicom_examples`).\n",
    "2. Metadane mogą być wczytane zarówno za pomocą biblioteki `pydicom` jak i `SimpleITK`.\n",
    "3. Najpierw wczytaj plik za pomocą funkcji `pydicom.dcmread`.\n",
    "4. Następnie wczytaj i wyświetl za pomocą funkcji `getattr` metadane takie jak: `\"Modality\", \"Rows\", \"Columns\", \"PixelSpacing\", \"SliceThickness\", \"Manufacturer\"`.\n",
    "Przykład wczytania przykładowej wartości: `print(\"Photometric Interpretation:\", getattr(img_dcm_pydicom, \"PhotometricInterpretation\", \"brak\"))`.\n",
    "5. Wczytaj ten sam plik za pomocą funkcji `sitk.ReadImage`.\n",
    "6. Wypisz wszystkie dostępne metadane dostępne w plikach. W tym celu wykorzystaj funkcji `img.GetMetaDataKeys()` oraz `img_dcm.GetMetaData(key)`.\n",
    "7. Przeanalizuj dostępne metadane.\n",
    "8. Wczytaj dane obrazowe za pomocą funkcji `sitk.GetArrayFromImage`, a następnie wyświetl dane za pomocą `matplotlib`."
   ]
  },
  {
   "cell_type": "code",
   "execution_count": null,
   "id": "223b3595",
   "metadata": {
    "colab": {
     "base_uri": "https://localhost:8080/",
     "height": 1000
    },
    "collapsed": true,
    "executionInfo": {
     "elapsed": 314,
     "status": "ok",
     "timestamp": 1759912046741,
     "user": {
      "displayName": "JAN ROSA",
      "userId": "09972594920799623787"
     },
     "user_tz": -120
    },
    "id": "223b3595",
    "outputId": "3c7cdb59-dda0-4fc3-8e2f-ba852d35345f"
   },
   "outputs": [],
   "source": [
    "# --- Zadanie 1\n",
    "dcm_paths = [\"/content/data/lab01_data/dicom/CT_small.dcm\", \"/content/data/lab01_data/dicom/MR_small.dcm\", \"/content/data/lab01_data/dicom/SC_rgb.dcm\"]\n",
    "\n",
    "for file in dcm_paths:\n",
    "    print(\"=\"*40)\n",
    "    print(f\"Plik: {file}\")\n",
    "\n",
    "    img_dcm_pydicom = pydicom.dcmread(file)\n",
    "\n",
    "    for tag in [\"Modality\", \"Rows\", \"Columns\", \"PixelSpacing\", \"SliceThickness\", \"Manufacturer\"]:\n",
    "        print(f\"{tag}:\", getattr(img_dcm_pydicom, tag, \"brak\"))\n",
    "\n",
    "    img_sitk = sitk.ReadImage(file)\n",
    "\n",
    "    print(\"\\n--- Dostępne metadane (SimpleITK) ---\")\n",
    "    for key in img_sitk.GetMetaDataKeys():\n",
    "        value = img_sitk.GetMetaData(key)\n",
    "        print(f\"{key}: {value}\")\n",
    "\n",
    "    img_array = sitk.GetArrayFromImage(img_sitk)\n",
    "\n",
    "    if img_array.ndim > 2:\n",
    "        slice_to_show = img_array[0, :, :]\n",
    "    else:\n",
    "        slice_to_show = img_array\n",
    "\n",
    "    # --- 6. Wyświetlenie obrazu\n",
    "    plt.imshow(slice_to_show, cmap=\"gray\")\n",
    "    plt.title(f\"Podgląd obrazu DICOM: {file}\")\n",
    "    plt.axis(\"off\")\n",
    "    plt.show()"
   ]
  },
  {
   "cell_type": "markdown",
   "id": "0035dcab",
   "metadata": {
    "id": "0035dcab"
   },
   "source": [
    "\n",
    "## Zadanie 2 – Wczytanie wolumenu NIfTI i przekroje\n",
    "\n",
    "1. Wczytaj plik `mni152.nii.gz`. Ścieżka znajduje się w `nifti_path`. Wykorzystaj funkcję `nib.load`.\n",
    "2. Wczytaj dane za pomocą funkcji `file.get_fdata()`.\n",
    "3. Sprawdź kształt tablicy (`data.shape`), macierz affine (`file.affine`), spacing (`file.header.get_zooms()`) oraz kierunek osi `nib.aff2axcodes(nii.affine)`.\n",
    "4. Wyświetl trzy środkowe przekroje: axial (poprzeczny - \"od góry\"), coronal (czołowy - \"od przodu\"), sagittal (strzałkowy - \"od boku\").\n"
   ]
  },
  {
   "cell_type": "code",
   "execution_count": null,
   "id": "9b3e45e6",
   "metadata": {
    "colab": {
     "base_uri": "https://localhost:8080/",
     "height": 587
    },
    "executionInfo": {
     "elapsed": 303,
     "status": "ok",
     "timestamp": 1759912047046,
     "user": {
      "displayName": "JAN ROSA",
      "userId": "09972594920799623787"
     },
     "user_tz": -120
    },
    "id": "9b3e45e6",
    "outputId": "99700a9a-1d3b-4bbf-e95b-f8c4d9b7a698"
   },
   "outputs": [],
   "source": [
    "\n",
    "mni152_nii_gz = nib.load(nifti_path)\n",
    "\n",
    "fdata = mni152_nii_gz.get_fdata()\n",
    "\n",
    "print(f\"Data shape: {fdata.shape}\")\n",
    "print(f\"Affine matrix:\\n{mni152_nii_gz.affine}\")\n",
    "print(f\"Spacing: {mni152_nii_gz.header.get_zooms()}\")\n",
    "print(f\"Axis vector: {nib.aff2axcodes(mni152_nii_gz.affine)}\")\n",
    "\n",
    "x_mid = fdata.shape[0] // 2  # sagittal\n",
    "y_mid = fdata.shape[1] // 2  # coronal\n",
    "z_mid = fdata.shape[2] // 2  # axial\n",
    "\n",
    "fig, axes = plt.subplots(1, 3, figsize=(15, 5))\n",
    "\n",
    "# Axial (od góry)\n",
    "axes[0].imshow(fdata[:, :, z_mid].T, cmap=\"gray\", origin=\"lower\")\n",
    "axes[0].set_title(\"Axial (od góry)\")\n",
    "axes[0].axis(\"off\")\n",
    "\n",
    "# Coronal (od przodu)\n",
    "axes[1].imshow(fdata[:, y_mid, :].T, cmap=\"gray\", origin=\"lower\")\n",
    "axes[1].set_title(\"Coronal (od przodu)\")\n",
    "axes[1].axis(\"off\")\n",
    "\n",
    "# Sagittal (od boku)\n",
    "axes[2].imshow(fdata[x_mid, :, :].T, cmap=\"gray\", origin=\"lower\")\n",
    "axes[2].set_title(\"Sagittal (od boku)\")\n",
    "axes[2].axis(\"off\")\n",
    "\n",
    "plt.show()"
   ]
  },
  {
   "cell_type": "markdown",
   "id": "931a5903",
   "metadata": {
    "id": "931a5903"
   },
   "source": [
    "\n",
    "## Zadanie 3 – Histogram i podstawowe operacje\n",
    "\n",
    "1. Wyświetl histogram intensywności wolumenu (NIfTI) za pomocą funkcji `plt.hist`. W celu poprawy widoczności można ustawić `range=(0.01, 1)`. Wcześniej spłaszcz dane za pomocą metody `.ravel()`.\n",
    "2. Wyświetl 3 oryginalne przekroje (jak w poprzednim zadaniu).\n",
    "3. Oblicz gradient Sobela względem wszystkich trzech osi. Wykorzystaj funkcję `ndi.sobel`.\n",
    "4. Za pomocą normy L2 połącz wyniki z wszystkich osi.\n",
    "5. Wyświetl te same przekroje jak wcześniej.\n",
    "6. Wykonaj progowanie dla 90-tego precentyla danych. Do wyznaczenia tej wartości wykorzystaj funkcję `np.percentile`.\n",
    "7. Wykonaj progowania, a następnie zrzutuj wynik do typu `np.uint8`.\n",
    "8. Wyświetl te same przekroje jak wcześniej.\n",
    "9. Wykonaj filtrację medianową dla tych samych danych. Wykorzystaj funkcję `ndi.median_filter`.\n",
    "10. Wyświetl te same przekroje jak wcześniej.\n"
   ]
  },
  {
   "cell_type": "code",
   "execution_count": null,
   "id": "c4fb687d",
   "metadata": {
    "colab": {
     "base_uri": "https://localhost:8080/",
     "height": 1000
    },
    "executionInfo": {
     "elapsed": 1056,
     "status": "ok",
     "timestamp": 1759912048104,
     "user": {
      "displayName": "JAN ROSA",
      "userId": "09972594920799623787"
     },
     "user_tz": -120
    },
    "id": "c4fb687d",
    "outputId": "e1352060-4947-4646-ed2e-c880ea3d0746"
   },
   "outputs": [],
   "source": [
    "# --- Zadanie 3\n",
    "plt.hist(fdata.flatten(), range=(0.01, 1))\n",
    "\n",
    "x_mid = fdata.shape[0] // 2  # sagittal\n",
    "y_mid = fdata.shape[1] // 2  # coronal\n",
    "z_mid = fdata.shape[2] // 2  # axial\n",
    "\n",
    "fig, axes = plt.subplots(1, 3, figsize=(15, 5))\n",
    "\n",
    "axial = fdata[:, :, z_mid].T\n",
    "coronal = fdata[:, y_mid, :].T\n",
    "sagittal = fdata[x_mid, :, :].T\n",
    "\n",
    "# Axial (od góry)\n",
    "axes[0].imshow(ndi.sobel(fdata[:, :, z_mid].T), cmap=\"gray\", origin=\"lower\")\n",
    "axes[0].set_title(\"Axial (od góry)\")\n",
    "axes[0].axis(\"off\")\n",
    "\n",
    "# Coronal (od przodu)\n",
    "axes[1].imshow(ndi.sobel(fdata[:, y_mid, :].T), cmap=\"gray\", origin=\"lower\")\n",
    "axes[1].set_title(\"Coronal (od przodu)\")\n",
    "axes[1].axis(\"off\")\n",
    "\n",
    "# Sagittal (od boku)\n",
    "axes[2].imshow(ndi.sobel(fdata[x_mid, :, :].T), cmap=\"gray\", origin=\"lower\")\n",
    "axes[2].set_title(\"Sagittal (od boku)\")\n",
    "axes[2].axis(\"off\")\n",
    "\n",
    "plt.show()\n",
    "\n",
    "fig, axes = plt.subplots(1, 3, figsize=(15, 5))\n",
    "\n",
    "# Axial (od góry)\n",
    "axes[0].imshow(np.linalg.norm(fdata.T, axis=0), cmap=\"gray\", origin=\"lower\")\n",
    "axes[0].set_title(\"Axial (od góry)\")\n",
    "axes[0].axis(\"off\")\n",
    "\n",
    "# Coronal (od przodu)\n",
    "axes[1].imshow(np.linalg.norm(fdata.T, axis=1), cmap=\"gray\", origin=\"lower\")\n",
    "axes[1].set_title(\"Coronal (od przodu)\")\n",
    "axes[1].axis(\"off\")\n",
    "\n",
    "# Sagittal (od boku)\n",
    "axes[2].imshow(np.linalg.norm(fdata.T, axis=2), cmap=\"gray\", origin=\"lower\")\n",
    "axes[2].set_title(\"Sagittal (od boku)\")\n",
    "axes[2].axis(\"off\")\n",
    "\n",
    "plt.show()\n",
    "\n",
    "\n",
    "fig, axes = plt.subplots(1, 3, figsize=(15, 5))\n",
    "\n",
    "# --- obliczenie progów (90 percentyl)\n",
    "z_perc = np.percentile(axial, 90)\n",
    "y_perc = np.percentile(coronal, 90)\n",
    "x_perc = np.percentile(sagittal, 90)\n",
    "\n",
    "# --- thresholdowanie (cv2 zwraca: (ret, obraz))\n",
    "_, axial_thresh    = cv2.threshold(axial.astype(np.float32),    z_perc, 1, cv2.THRESH_BINARY)\n",
    "_, coronal_thresh  = cv2.threshold(coronal.astype(np.float32),  y_perc, 1, cv2.THRESH_BINARY)\n",
    "_, sagittal_thresh = cv2.threshold(sagittal.astype(np.float32), x_perc, 1, cv2.THRESH_BINARY)\n",
    "\n",
    "# --- wyświetlanie\n",
    "axes[0].imshow(axial_thresh.astype(np.uint8), cmap=\"gray\", origin=\"lower\")\n",
    "axes[0].set_title(\"Axial (threshold 90%)\")\n",
    "axes[0].axis(\"off\")\n",
    "\n",
    "axes[1].imshow(coronal_thresh.astype(np.uint8), cmap=\"gray\", origin=\"lower\")\n",
    "axes[1].set_title(\"Coronal (threshold 90%)\")\n",
    "axes[1].axis(\"off\")\n",
    "\n",
    "axes[2].imshow(sagittal_thresh.astype(np.uint8), cmap=\"gray\", origin=\"lower\")\n",
    "axes[2].set_title(\"Sagittal (threshold 90%)\")\n",
    "axes[2].axis(\"off\")\n",
    "\n",
    "plt.show()\n",
    "\n",
    "fig, axes = plt.subplots(1, 3, figsize=(15, 5))\n",
    "\n",
    "# Axial (od góry)\n",
    "axes[0].imshow(ndi.median_filter(fdata[:, :, z_mid].T, size=(5, 5)), cmap=\"gray\", origin=\"lower\")\n",
    "axes[0].set_title(\"Axial (od góry, median filter)\")\n",
    "axes[0].axis(\"off\")\n",
    "\n",
    "# Coronal (od przodu)\n",
    "axes[1].imshow(ndi.median_filter(fdata[:, y_mid, :].T, size=(5, 5)), cmap=\"gray\", origin=\"lower\")\n",
    "axes[1].set_title(\"Coronal (od przodu, median filter)\")\n",
    "axes[1].axis(\"off\")\n",
    "\n",
    "# Sagittal (od boku)\n",
    "axes[2].imshow(ndi.median_filter(fdata[x_mid, :, :].T, size=(5, 5)), cmap=\"gray\", origin=\"lower\")\n",
    "axes[2].set_title(\"Sagittal (od boku, median filter)\")\n",
    "axes[2].axis(\"off\")\n",
    "\n",
    "plt.show()\n"
   ]
  },
  {
   "cell_type": "markdown",
   "id": "aa70dd12",
   "metadata": {
    "id": "aa70dd12"
   },
   "source": [
    "\n",
    "## Zadanie 4 – Resampling wolumenu do izotropowego voxela\n",
    "\n",
    "1. Wczytaj dane NIfTI za pomocą `SimpleITK`. Wykorzystaj funkcję `sitk.ReadImage`.\n",
    "2. Wyświetl rozmiar i spacing wczytanych danych. Wykorzystaj metody `.GetSize()` i `.GetSpacing()`.\n",
    "3. Stwórz instancję klasy `sitk.ResampleImageFilter()`.\n",
    "4. Wybierz metodę interpolacji za pomocą metody `.SetInterpolator`.\n",
    "5. Wybierz wyjściowy spacing za pomocą metody `.SetOutputSpacing`. Chcemy uzyskać spacing 1mm dla każdej osi.\n",
    "6. Ustaw orientację i położenie początka ukłądu współrzędnych jak w oryginalnych danych. Wykorzystaj metody `.SetOutputDirection`, `.GetDirection`, `.SetOutputOrigin` i `.GetOrigin`.\n",
    "7. Oblicz rozmiar wyjściowych danych. Rozmiar dla analizowanego wymiaru powinien wynosić $Sz_o \\cdot Sp_o / Sp_n$, gdzie $Sz_o$ jest originalnym rozmiarem, $Sp_o$ jest oryginalnym spacingiem, a $Sp_n$ jest docelowym spacingiem.\n",
    "8. Ustaw docelowy rozmiar za pomocą metody `.SetSize`.\n",
    "9. Wykonaj przeprobkowanie danych za pomocą metody `.Execute`.\n",
    "10. Wyświetl rozmiar oraz spacing wyjściowych danych."
   ]
  },
  {
   "cell_type": "code",
   "execution_count": null,
   "id": "cd882adf",
   "metadata": {
    "colab": {
     "base_uri": "https://localhost:8080/"
    },
    "executionInfo": {
     "elapsed": 4847,
     "status": "ok",
     "timestamp": 1759912052955,
     "user": {
      "displayName": "JAN ROSA",
      "userId": "09972594920799623787"
     },
     "user_tz": -120
    },
    "id": "cd882adf",
    "outputId": "e2af1a75-18e0-4df1-e542-2730b1c0d52b"
   },
   "outputs": [],
   "source": [
    "# 1. Wczytaj dane NIfTI\n",
    "nifTI_image = sitk.ReadImage(nifti_path)\n",
    "\n",
    "# 2. Wyświetl rozmiar i spacing\n",
    "print(\"Oryginalny rozmiar:\", nifTI_image.GetSize())\n",
    "print(\"Oryginalny spacing:\", nifTI_image.GetSpacing())\n",
    "\n",
    "# 3. Stwórz filtr resamplingu\n",
    "res_img_fltr = sitk.ResampleImageFilter()\n",
    "\n",
    "# 4. Ustaw interpolację (np. B-spline)\n",
    "res_img_fltr.SetInterpolator(sitk.sitkBSpline)\n",
    "\n",
    "# 5. Docelowy spacing (1mm x 1mm x 1mm)\n",
    "new_spacing = (1.0, 1.0, 1.0)\n",
    "res_img_fltr.SetOutputSpacing(new_spacing)\n",
    "\n",
    "# 6. Zachowaj orientację i origin\n",
    "res_img_fltr.SetOutputDirection(nifTI_image.GetDirection())\n",
    "res_img_fltr.SetOutputOrigin(nifTI_image.GetOrigin())\n",
    "\n",
    "# 7. Oblicz nowy rozmiar\n",
    "old_size = np.array(nifTI_image.GetSize(), dtype=np.int64)\n",
    "old_spacing = np.array(nifTI_image.GetSpacing())\n",
    "new_spacing_np = np.array(new_spacing)\n",
    "\n",
    "new_size = np.round(old_size * (old_spacing / new_spacing_np)).astype(int)\n",
    "new_size = [int(sz) for sz in new_size]  # konwersja do listy int\n",
    "res_img_fltr.SetSize(new_size)\n",
    "\n",
    "# 9. Wykonaj resampling\n",
    "resampled_img = res_img_fltr.Execute(nifTI_image)\n",
    "\n",
    "# 10. Wyświetl wynikowe parametry\n",
    "print(\"Nowy rozmiar:\", resampled_img.GetSize())\n",
    "print(\"Nowy spacing:\", resampled_img.GetSpacing())"
   ]
  },
  {
   "cell_type": "markdown",
   "id": "389615e9",
   "metadata": {
    "id": "389615e9"
   },
   "source": [
    "\n",
    "## Zadanie 5 – Zapis przetworzonego wolumenu w formacie NIfTI (LPS -> RAS)\n",
    "\n",
    "1. Utwórz ścieżkę gdzie dane zostaną zapisane.\n",
    "2. Wyciągnij dane `NumPy` z obrazu `SimpleITK`.\n",
    "3. Dopasuj kolejność wymiarów do biblioteki `nibabel` - (z, y, x) -> (x, y, z). Wykorzystaj funkcję `np.transpose`.\n",
    "4. Pobierz spacing, direction i origin dla zapisywanych danych. Zamień je na `np.array` typu `float`. Zmień kształt direction na `(3, 3)` metodą `.reshape`.\n",
    "5. Wyświetl pobrane wartości.\n",
    "6. Najpierw stwórz macierz affine dla formatu LPS (stosowany w `SimpleITK` i DICOM). Zacznij od stworzenia macierzy jednostkowej o rozmiarze $4 \\times 4$. Następnie w trzy pierwsze kolumny i wiersze wpisz kolumny direction przeskalowane przez spacing (wystarczy operacja mnożenia element przez element - `*`). Do trzech pierwszych wierszy ostatniej kolumny wpisz origin.\n",
    "7. Skonwertuj affine w formacie LPS do formatu RAS. W tym celu wystarczy odwrócić kierunki osi x i y. Można to zrobić wykonująć mnożenie macierzowe formatu lps przez macierz diagonalną o wartościach `[-1, -1, 1, 1]`. macierz diagonalną można stworzyć za pomocą `np.diag`.\n",
    "8. Wyświetl obliczone affine. Porównaj go z affine oryginalnych danych, wczytanych na początku zadania 2.\n",
    "9. Stwórz obraz NIfTI za pomocą `nib.Nifti1Image`. Pierwszym argumentem są dane jako tablica `NumPy`, a drugim affine w formacie RAS.\n",
    "10. Wykonaj dodatkowo `nifti.set_sform(affine_ras, code=1)` i `nifti.set_qform(affine_ras, code=1)`.\n",
    "11. Zapisz dane za pomocą `nib.save`."
   ]
  },
  {
   "cell_type": "code",
   "execution_count": null,
   "id": "208cad96",
   "metadata": {
    "colab": {
     "base_uri": "https://localhost:8080/",
     "height": 980
    },
    "executionInfo": {
     "elapsed": 662,
     "status": "ok",
     "timestamp": 1759912053619,
     "user": {
      "displayName": "JAN ROSA",
      "userId": "09972594920799623787"
     },
     "user_tz": -120
    },
    "id": "208cad96",
    "outputId": "c526fbb7-ecbb-4fdc-c01f-c0061dcd31c0"
   },
   "outputs": [],
   "source": [
    "# --- Zadanie 5\n",
    "\n",
    "output_path = \"/content/data/lab01_data/output\"\n",
    "os.makedirs(output_path, exist_ok=True)\n",
    "\n",
    "img_array = sitk.GetArrayFromImage(nifTI_image)  # (z, y, x)\n",
    "\n",
    "img_array_xyz = np.transpose(img_array, (2, 1, 0))\n",
    "\n",
    "spacing = np.array(nifTI_image.GetSpacing(), dtype=float)\n",
    "direction = np.array(nifTI_image.GetDirection(), dtype=float).reshape(3, 3)\n",
    "origin = np.array(nifTI_image.GetOrigin(), dtype=float)\n",
    "\n",
    "print(\"Spacing:\", spacing)\n",
    "print(\"Direction:\\n\", direction)\n",
    "print(\"Origin:\", origin)\n",
    "\n",
    "affine_lps = np.eye(4)\n",
    "affine_lps[:3, :3] = direction * spacing\n",
    "affine_lps[:3, 3] = origin\n",
    "\n",
    "lps_to_ras = np.diag([-1, -1, 1, 1])\n",
    "affine_ras = lps_to_ras @ affine_lps\n",
    "\n",
    "print(\"Affine LPS:\\n\", affine_lps)\n",
    "print(\"Affine RAS:\\n\", affine_ras)\n",
    "print(\"Affine z nibabel (oryginalny, zadanie 2):\\n\", mni152_nii_gz.affine)\n",
    "\n",
    "nifti_out = nib.Nifti1Image(img_array_xyz, affine_ras)\n",
    "\n",
    "nifti_out.set_sform(affine_ras, code=1)\n",
    "nifti_out.set_qform(affine_ras, code=1)\n",
    "\n",
    "save_path = os.path.join(output_path, \"resampled_LPS_to_RAS.nii.gz\")\n",
    "nib.save(nifti_out, save_path)\n",
    "\n",
    "print(f\"NIfTI zapisany do: {save_path}\")\n",
    "\n",
    "mni152_nii_gz = nib.load(save_path)\n",
    "\n",
    "fdata = mni152_nii_gz.get_fdata()\n",
    "\n",
    "print(f\"Data shape: {fdata.shape}\")\n",
    "print(f\"Affine matrix:\\n{mni152_nii_gz.affine}\")\n",
    "print(f\"Spacing: {mni152_nii_gz.header.get_zooms()}\")\n",
    "print(f\"Axis vector: {nib.aff2axcodes(mni152_nii_gz.affine)}\")\n",
    "\n",
    "x_mid = fdata.shape[0] // 2  # sagittal\n",
    "y_mid = fdata.shape[1] // 2  # coronal\n",
    "z_mid = fdata.shape[2] // 2  # axial\n",
    "\n",
    "fig, axes = plt.subplots(1, 3, figsize=(15, 5))\n",
    "\n",
    "# Axial (od góry)\n",
    "axes[0].imshow(fdata[:, :, z_mid].T, cmap=\"gray\", origin=\"lower\")\n",
    "axes[0].set_title(\"Axial (od góry)\")\n",
    "axes[0].axis(\"off\")\n",
    "\n",
    "# Coronal (od przodu)\n",
    "axes[1].imshow(fdata[:, y_mid, :].T, cmap=\"gray\", origin=\"lower\")\n",
    "axes[1].set_title(\"Coronal (od przodu)\")\n",
    "axes[1].axis(\"off\")\n",
    "\n",
    "# Sagittal (od boku)\n",
    "axes[2].imshow(fdata[x_mid, :, :].T, cmap=\"gray\", origin=\"lower\")\n",
    "axes[2].set_title(\"Sagittal (od boku)\")\n",
    "axes[2].axis(\"off\")\n",
    "\n",
    "plt.show()"
   ]
  },
  {
   "cell_type": "markdown",
   "id": "d9ef8842",
   "metadata": {
    "id": "d9ef8842"
   },
   "source": [
    "\n",
    "---\n",
    "## Podsumowanie (do krótkiego uzupełnienia)\n",
    "\n",
    "- Jakie są główne różnice między DICOM a NIfTI?\n",
    "DICOM to format kliniczny, bogaty w metadane o pacjencie i aparacie, zwykle zawierający wiele plików dla jednego badania.\n",
    "NIfTI to format badawczy, uproszczony i jednoplikowy, skupiony na danych przestrzennych i analizie neuroobrazowej.\n",
    "\n",
    "- Jakie metadane są ważne przy pracy z obrazami medycznymi?\n",
    "Kluczowe są informacje o wymiarach, rozdzielczości, orientacji i parametrach akwizycji (np. voxel size).\n",
    "\n",
    "- Jak interpretować trzy podstawowe przekroje wolumenu (axial, coronal, sagittal)?\n",
    "\n",
    "Axial zgodnie z płaszczyną dysków międzykręgowych, coronal poprzeczny, sagittal zgodnie z płaszczyzną przechodzącą kolinearnie przez mostek i kręgosłup."
   ]
  }
 ],
 "metadata": {
  "colab": {
   "provenance": []
  },
  "kernelspec": {
   "display_name": "PAOM",
   "language": "python",
   "name": "python3"
  },
  "language_info": {
   "codemirror_mode": {
    "name": "ipython",
    "version": 3
   },
   "file_extension": ".py",
   "mimetype": "text/x-python",
   "name": "python",
   "nbconvert_exporter": "python",
   "pygments_lexer": "ipython3",
   "version": "3.12.11"
  }
 },
 "nbformat": 4,
 "nbformat_minor": 5
}
